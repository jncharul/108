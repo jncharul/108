{
  "nbformat": 4,
  "nbformat_minor": 0,
  "metadata": {
    "colab": {
      "provenance": [],
      "include_colab_link": true
    },
    "kernelspec": {
      "name": "python3",
      "display_name": "Python 3"
    },
    "language_info": {
      "name": "python"
    }
  },
  "cells": [
    {
      "cell_type": "markdown",
      "metadata": {
        "id": "view-in-github",
        "colab_type": "text"
      },
      "source": [
        "<a href=\"https://colab.research.google.com/github/jncharul/108/blob/main/c100.ipynb\" target=\"_parent\"><img src=\"https://colab.research.google.com/assets/colab-badge.svg\" alt=\"Open In Colab\"/></a>"
      ]
    },
    {
      "cell_type": "code",
      "execution_count": 4,
      "metadata": {
        "id": "8llHQLmF5dTI"
      },
      "outputs": [],
      "source": [
        "class movieReview: \n",
        "  def __init__(self, movie, story, actors, music):\n",
        "    self.movie_name = movie \n",
        "\n",
        "    self.story_rating = story \n",
        "    self.actor_rating = actors \n",
        "    self.music_rating = music \n",
        "    self.avg = int((self.story_rating + self.actor_rating + self.music_rating)/3)\n",
        "\n",
        "    self.myrating = {\n",
        "    \"movie name\" : self.movie_name,\n",
        "    \"story rating\": self.story_rating,\n",
        "    \"actor rating\": self.actor_rating,\n",
        "    \"music rating\": self.music_rating, \n",
        "    \"average rating\": self.avg\n",
        "}"
      ]
    },
    {
      "cell_type": "code",
      "source": [],
      "metadata": {
        "id": "RKLMdLwf60QW"
      },
      "execution_count": null,
      "outputs": []
    },
    {
      "cell_type": "code",
      "source": [
        "moviereviews= []"
      ],
      "metadata": {
        "id": "q1m_9nB77bQI"
      },
      "execution_count": 5,
      "outputs": []
    },
    {
      "cell_type": "code",
      "source": [
        "def add_movie_ratings(self,movie_list):\n",
        "  moviereviews()\n",
        "  movie_list.append(self.myrating)"
      ],
      "metadata": {
        "id": "FV55mNzZ8jED"
      },
      "execution_count": 6,
      "outputs": []
    },
    {
      "cell_type": "code",
      "source": [
        "def avg_star_ratings(self, movie_list):\n",
        "  for movie in movie_list:\n",
        "    if(movie[\"Avg Rating\"]==1):\n",
        "      print(\"Thanks for your response, you rated movie with *\")\n",
        "      print(movie)\n",
        "    elif(movie[\"Avg Rating\"]==2):\n",
        "      review2 = movieReview(\"Beautiful Sound\",5,5,5)\n",
        "      review2.add_movie_ratings(moviereviews)\n",
        "      review2.avg_star_ratings(moviereviews)"
      ],
      "metadata": {
        "id": "gD-DTOq4acms"
      },
      "execution_count": 7,
      "outputs": []
    }
  ]
}